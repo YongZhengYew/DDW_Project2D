{
 "cells": [
  {
   "cell_type": "code",
   "execution_count": null,
   "metadata": {},
   "outputs": [],
   "source": [
    "import pandas as pd\n",
    "import matplotlib.pyplot as plt\n",
    "import seaborn as sns\n",
    "import numpy as np"
   ]
  },
  {
   "cell_type": "code",
   "execution_count": null,
   "metadata": {},
   "outputs": [],
   "source": [
    "file_url = \"https://covid.ourworldindata.org/data/owid-covid-data.csv\"\n",
    "df1 = pd.read_csv(file_url)\n",
    "# display(df1)\n",
    "\n",
    "print(df1.columns)"
   ]
  },
  {
   "cell_type": "code",
   "execution_count": null,
   "metadata": {},
   "outputs": [],
   "source": [
    "pd.reset_option(\"display.max_rows\")\n",
    "\n",
    "columnsOfInterest = ['location', 'date', 'new_deaths',\n",
    "                     'population_density', 'gdp_per_capita',\n",
    "                     'handwashing_facilities', 'hospital_beds_per_thousand',\n",
    "                     'life_expectancy', 'human_development_index']\n",
    "\n",
    "\n",
    "df1_interest = df1.loc[:, columnsOfInterest]\n",
    "\n",
    "countryNames = pd.unique(df1[\"location\"])\n",
    "countryDFList = [df1.loc[df1[\"location\"] == country] for country in countryNames]\n",
    "countryDict = dict(zip(uniqueCountries, countryDFList))\n",
    "\n",
    "missingFactorsByCountry = {}\n",
    "for countryName, countryDF in countryDict.items():\n",
    "    temp = {}\n",
    "    for targetColumn in countryDF.columns[curr.isnull().any()]:\n",
    "        if targetColumn in columns:\n",
    "            temp[targetColumn] = countryDF[targetColumn].isna().sum()\n",
    "    missingFactorsByCountry[countryName] = temp\n",
    "    \n",
    "numberOfCountriesMissingFactors = {}\n",
    "for country, missingDict in missingFactorsByCountry.items():\n",
    "    for factor in missingDict.keys():\n",
    "        if numberOfCountriesMissingFactors.get(factor, None) is None:\n",
    "            numberOfCountriesMissingFactors[factor] = 1\n",
    "        else:\n",
    "            numberOfCountriesMissingFactors[factor] += 1\n",
    "\n",
    "filledNANDict = {}\n",
    "for countryName, countryDF in countryDict.items():\n",
    "    filledNANDict[countryName] = {}\n",
    "    filledNANDict[countryName][\"ffill\"] = countryDF.fillna(method=\"ffill\")\n",
    "    filledNANDict[countryName][\"ffill->0\"] = filledNANDict[countryName][\"ffill\"].fillna(0)\n",
    "\n",
    "resList = [filledNANDict[countryName][\"ffill->0\"] for countryName in countryDict.keys()]\n",
    "resMerged = pd.concat(resList).reset_index()\n",
    "resMerged.to_csv(r'C:\\Users\\drago\\2DRandomCSVs\\export_dataframe.csv', index = False, header=True)\n",
    "\n",
    "#######################################################################################\n",
    "# DANGEROUS, DO NOT DO -- COUNTRIES WILL HAVE VALUES PROPAGATED FROM PREVIOUS COUNTRIES\n",
    "# df1_featuresFilledNAN1 = df1_features.fillna(method=\"ffill\")\n",
    "# df1_featuresFilledNAN2 = df1_featuresFilledNAN1.fillna(0)\n",
    "#######################################################################################"
   ]
  },
  {
   "cell_type": "code",
   "execution_count": null,
   "metadata": {},
   "outputs": [],
   "source": [
    "pd.concat((df1_featuresFilledNAN1, df1_featuresFilledNAN2)).drop_duplicates(keep=False)"
   ]
  },
  {
   "cell_type": "code",
   "execution_count": null,
   "metadata": {},
   "outputs": [],
   "source": [
    "pd.set_option(\"display.max_rows\", 1000)\n",
    "display(\n",
    "    pd.concat((filledNANDict[\"Uganda\"][\"ffill\"], filledNANDict[\"Uganda\"][\"ffill->0\"])).drop_duplicates(keep=False)\n",
    ")"
   ]
  },
  {
   "cell_type": "code",
   "execution_count": null,
   "metadata": {},
   "outputs": [],
   "source": [
    "resMerged"
   ]
  },
  {
   "cell_type": "code",
   "execution_count": null,
   "metadata": {},
   "outputs": [],
   "source": []
  }
 ],
 "metadata": {
  "kernelspec": {
   "display_name": "Python 3",
   "language": "python",
   "name": "python3"
  },
  "language_info": {
   "codemirror_mode": {
    "name": "ipython",
    "version": 3
   },
   "file_extension": ".py",
   "mimetype": "text/x-python",
   "name": "python",
   "nbconvert_exporter": "python",
   "pygments_lexer": "ipython3",
   "version": "3.8.3"
  }
 },
 "nbformat": 4,
 "nbformat_minor": 4
}
