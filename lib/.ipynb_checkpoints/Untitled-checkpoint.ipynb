{
 "cells": [
  {
   "cell_type": "code",
   "execution_count": 4,
   "id": "e4bd67e6-9227-40bf-b434-9566f970b065",
   "metadata": {},
   "outputs": [
    {
     "name": "stdout",
     "output_type": "stream",
     "text": [
      "[[0    0.0\n",
      "1    1.0\n",
      "2    1.0\n",
      "3    2.0\n",
      "4    5.0\n",
      "5    4.0\n",
      "6    5.0\n",
      "7    7.0\n",
      "8    9.0\n",
      "9    9.0\n",
      "Name: mouse size, dtype: float64]]\n"
     ]
    },
    {
     "data": {
      "text/html": [
       "<div>\n",
       "<style scoped>\n",
       "    .dataframe tbody tr th:only-of-type {\n",
       "        vertical-align: middle;\n",
       "    }\n",
       "\n",
       "    .dataframe tbody tr th {\n",
       "        vertical-align: top;\n",
       "    }\n",
       "\n",
       "    .dataframe thead th {\n",
       "        text-align: right;\n",
       "    }\n",
       "</style>\n",
       "<table border=\"1\" class=\"dataframe\">\n",
       "  <thead>\n",
       "    <tr style=\"text-align: right;\">\n",
       "      <th></th>\n",
       "      <th>0</th>\n",
       "    </tr>\n",
       "  </thead>\n",
       "  <tbody>\n",
       "    <tr>\n",
       "      <th>0</th>\n",
       "      <td>0    0.0\n",
       "1    1.0\n",
       "2    1.0\n",
       "3    2.0\n",
       "4    5.0\n",
       "5...</td>\n",
       "    </tr>\n",
       "  </tbody>\n",
       "</table>\n",
       "</div>"
      ],
      "text/plain": [
       "                                                   0\n",
       "0  0    0.0\n",
       "1    1.0\n",
       "2    1.0\n",
       "3    2.0\n",
       "4    5.0\n",
       "5..."
      ]
     },
     "metadata": {},
     "output_type": "display_data"
    }
   ],
   "source": [
    "import seaborn as sns\n",
    "import pandas as pd\n",
    "import numpy as np\n",
    "import matplotlib.pyplot as plt\n",
    "\n",
    "pd.set_option(\"display.max_columns\", 100)\n",
    "pd.set_option(\"display.max_rows\", 100)\n",
    "\n",
    "class LinearRegression:\n",
    "    COLUMNNAME_yGuesses = \"yGuesses\"\n",
    "    COLUMNNAME_residuals = \"residuals\"\n",
    "\n",
    "    def __init__(self, df, y, learningIncrement):\n",
    "        self.df = df\n",
    "        self.xs = [name for name in self.df.columns if name != y] # fact that it is ordered is impt\n",
    "        self.y = self.df[y]\n",
    "        self.learningIncrement = learningIncrement\n",
    "\n",
    "        self.guesses = self.initGuesses()\n",
    "        display(self.guesses)\n",
    "\n",
    "        #self.incrementMatrix = self.getIncrementMatrix()\n",
    "\n",
    "    def initGuesses(self) -> pd.DataFrame:\n",
    "        firstXs = pd.DataFrame([self.df[x].iloc[0] for x in self.xs])\n",
    "        firstY = self.y.iloc[0]\n",
    "        lastXs = pd.DataFrame([self.df[x].iloc[-1] for x in self.xs])\n",
    "        lastY = self.y.iloc[-1]\n",
    "\n",
    "        gradients = ((lastY-firstY)/(lastXs-firstXs)).iloc[:, 0]\n",
    "        yIntercepts = (firstY - gradients*firstXs).iloc[:, 0]\n",
    "\n",
    "        res = []\n",
    "        for i, x in enumerate(self.xs):\n",
    "            res.append([gradients[i]*self.df[x] + yIntercepts[i]])\n",
    "        print(res[0], type(res[0]))\n",
    "        return pd.DataFrame(res)\n",
    "\n",
    "    def getIncrementMatrix(self):\n",
    "        m = self.df.shape[0]\n",
    "        return (1/(2*m)) * sum((self.guesses - self.y)**2)\n",
    "\n",
    "\n",
    "df = pd.read_csv(\"test.csv\")\n",
    "\n",
    "res = LinearRegression(df, \"mouse weight\", \"mouse size\")"
   ]
  }
 ],
 "metadata": {
  "kernelspec": {
   "display_name": "Python 3 (ipykernel)",
   "language": "python",
   "name": "python3"
  },
  "language_info": {
   "codemirror_mode": {
    "name": "ipython",
    "version": 3
   },
   "file_extension": ".py",
   "mimetype": "text/x-python",
   "name": "python",
   "nbconvert_exporter": "python",
   "pygments_lexer": "ipython3",
   "version": "3.8.2"
  }
 },
 "nbformat": 4,
 "nbformat_minor": 5
}
